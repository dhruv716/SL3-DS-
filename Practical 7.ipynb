{
 "cells": [
  {
   "cell_type": "code",
   "execution_count": 2,
   "metadata": {},
   "outputs": [],
   "source": [
    "import nltk\n",
    "from nltk.tokenize import word_tokenize\n",
    "from nltk.corpus import stopwords\n",
    "from nltk.stem import PorterStemmer, WordNetLemmatizer\n",
    "from nltk import pos_tag\n",
    "from nltk.corpus import wordnet as wn\n",
    "from sklearn.feature_extraction.text import TfidfVectorizer \n",
    "import re\n"
   ]
  },
  {
   "cell_type": "code",
   "execution_count": 3,
   "metadata": {},
   "outputs": [],
   "source": [
    "def preprocess_text(text):\n",
    "    text = text.lower()\n",
    "    text = re.sub(r'[^\\w\\s]', ' ', text) \n",
    "    return text"
   ]
  },
  {
   "cell_type": "code",
   "execution_count": 4,
   "metadata": {},
   "outputs": [
    {
     "data": {
      "text/plain": [
       "'i am a student.hello!! there is a session going onn.'"
      ]
     },
     "execution_count": 4,
     "metadata": {},
     "output_type": "execute_result"
    }
   ],
   "source": [
    "text = \"i am a student.hello!! there is a session going onn.\"\n",
    "preprocessed_document = preprocess_text(text)\n",
    "text"
   ]
  },
  {
   "cell_type": "code",
   "execution_count": 5,
   "metadata": {},
   "outputs": [
    {
     "name": "stderr",
     "output_type": "stream",
     "text": [
      "[nltk_data] Downloading package punkt to /Users/dhruvpai/nltk_data...\n",
      "[nltk_data]   Package punkt is already up-to-date!\n"
     ]
    }
   ],
   "source": [
    "nltk.download('punkt') \n",
    "def tokenize_text(text):\n",
    "    tokens = word_tokenize(text) \n",
    "    return tokens"
   ]
  },
  {
   "cell_type": "code",
   "execution_count": 6,
   "metadata": {},
   "outputs": [
    {
     "data": {
      "text/plain": [
       "['i',\n",
       " 'am',\n",
       " 'a',\n",
       " 'student',\n",
       " 'hello',\n",
       " 'there',\n",
       " 'is',\n",
       " 'a',\n",
       " 'session',\n",
       " 'going',\n",
       " 'onn']"
      ]
     },
     "execution_count": 6,
     "metadata": {},
     "output_type": "execute_result"
    }
   ],
   "source": [
    "tokens = tokenize_text(preprocessed_document)\n",
    "tokens"
   ]
  },
  {
   "cell_type": "code",
   "execution_count": 7,
   "metadata": {},
   "outputs": [],
   "source": [
    "def pos_tag_tokens(tokens): \n",
    "    pos_tags = pos_tag(tokens) \n",
    "    return pos_tags"
   ]
  },
  {
   "cell_type": "code",
   "execution_count": 8,
   "metadata": {},
   "outputs": [
    {
     "name": "stderr",
     "output_type": "stream",
     "text": [
      "[nltk_data] Downloading package averaged_perceptron_tagger to\n",
      "[nltk_data]     /Users/dhruvpai/nltk_data...\n",
      "[nltk_data]   Package averaged_perceptron_tagger is already up-to-\n",
      "[nltk_data]       date!\n"
     ]
    }
   ],
   "source": [
    "nltk.download('averaged_perceptron_tagger')\n",
    "pos_tags = pos_tag_tokens(tokens)"
   ]
  },
  {
   "cell_type": "code",
   "execution_count": 9,
   "metadata": {},
   "outputs": [
    {
     "data": {
      "text/plain": [
       "[('i', 'NN'),\n",
       " ('am', 'VBP'),\n",
       " ('a', 'DT'),\n",
       " ('student', 'NN'),\n",
       " ('hello', 'NN'),\n",
       " ('there', 'EX'),\n",
       " ('is', 'VBZ'),\n",
       " ('a', 'DT'),\n",
       " ('session', 'NN'),\n",
       " ('going', 'VBG'),\n",
       " ('onn', 'NN')]"
      ]
     },
     "execution_count": 9,
     "metadata": {},
     "output_type": "execute_result"
    }
   ],
   "source": [
    "pos_tags"
   ]
  },
  {
   "cell_type": "code",
   "execution_count": 10,
   "metadata": {},
   "outputs": [],
   "source": [
    "def remove_stop_words(tokens):\n",
    "    stop_words = set(stopwords.words('english'))\n",
    "    filtered_tokens = [word for word in tokens if word.lower() not in stop_words]\n",
    "    return filtered_tokens"
   ]
  },
  {
   "cell_type": "code",
   "execution_count": 11,
   "metadata": {},
   "outputs": [
    {
     "name": "stderr",
     "output_type": "stream",
     "text": [
      "[nltk_data] Downloading package stopwords to\n",
      "[nltk_data]     /Users/dhruvpai/nltk_data...\n",
      "[nltk_data]   Package stopwords is already up-to-date!\n"
     ]
    }
   ],
   "source": [
    "nltk.download('stopwords')\n",
    "filtered_tokens = remove_stop_words(tokens)"
   ]
  },
  {
   "cell_type": "code",
   "execution_count": 12,
   "metadata": {},
   "outputs": [
    {
     "data": {
      "text/plain": [
       "['student', 'hello', 'session', 'going', 'onn']"
      ]
     },
     "execution_count": 12,
     "metadata": {},
     "output_type": "execute_result"
    }
   ],
   "source": [
    "filtered_tokens"
   ]
  },
  {
   "cell_type": "code",
   "execution_count": 13,
   "metadata": {},
   "outputs": [],
   "source": [
    "def stem_tokens(tokens):\n",
    "    stemmer = PorterStemmer()\n",
    "    stemmed_tokens = [stemmer.stem(word) for word in tokens] \n",
    "    return stemmed_tokens"
   ]
  },
  {
   "cell_type": "code",
   "execution_count": 14,
   "metadata": {},
   "outputs": [
    {
     "data": {
      "text/plain": [
       "['student', 'hello', 'session', 'go', 'onn']"
      ]
     },
     "execution_count": 14,
     "metadata": {},
     "output_type": "execute_result"
    }
   ],
   "source": [
    "stemmed_tokens = stem_tokens(filtered_tokens)\n",
    "stemmed_tokens"
   ]
  },
  {
   "cell_type": "code",
   "execution_count": 15,
   "metadata": {},
   "outputs": [
    {
     "name": "stderr",
     "output_type": "stream",
     "text": [
      "[nltk_data] Downloading package wordnet to\n",
      "[nltk_data]     /Users/dhruvpai/nltk_data...\n",
      "[nltk_data]   Package wordnet is already up-to-date!\n"
     ]
    },
    {
     "data": {
      "text/plain": [
       "True"
      ]
     },
     "execution_count": 15,
     "metadata": {},
     "output_type": "execute_result"
    }
   ],
   "source": [
    "nltk.download('wordnet')"
   ]
  },
  {
   "cell_type": "code",
   "execution_count": 16,
   "metadata": {},
   "outputs": [],
   "source": [
    "def lemmatize_tokens(tokens): \n",
    "    lemmatizer = WordNetLemmatizer()\n",
    "    def get_wordnet_pos(treebank_tag): \n",
    "        if treebank_tag.startswith('J'):\n",
    "            return wn.ADJ\n",
    "        elif treebank_tag.startswith('V'):\n",
    "            return wn.VERB\n",
    "        elif treebank_tag.startswith('N'):\n",
    "            return wn.NOUN\n",
    "        elif treebank_tag.startswith('R'):\n",
    "            return wn.ADV \n",
    "        else:\n",
    "            return None\n",
    "    pos_tags = pos_tag(tokens) \n",
    "    lemmatized_tokens = []\n",
    "    for word, pos in pos_tags:\n",
    "        wordnet_pos = get_wordnet_pos(pos) or wn.NOUN\n",
    "        lemmatized_tokens.append(lemmatizer.lemmatize(word, pos=wordnet_pos)) \n",
    "        return lemmatized_tokens"
   ]
  },
  {
   "cell_type": "code",
   "execution_count": 17,
   "metadata": {},
   "outputs": [
    {
     "data": {
      "text/plain": [
       "['i']"
      ]
     },
     "execution_count": 17,
     "metadata": {},
     "output_type": "execute_result"
    }
   ],
   "source": [
    "lemmatized_tokens = lemmatize_tokens(tokens)\n",
    "lemmatized_tokens"
   ]
  },
  {
   "cell_type": "code",
   "execution_count": 18,
   "metadata": {},
   "outputs": [],
   "source": [
    "def get_tfidf_representation(documents):\n",
    "    tfidf_vectorizer = TfidfVectorizer()\n",
    "    tfidf_matrix = tfidf_vectorizer.fit_transform(documents) \n",
    "    return tfidf_matrix"
   ]
  },
  {
   "cell_type": "code",
   "execution_count": 19,
   "metadata": {},
   "outputs": [
    {
     "data": {
      "text/plain": [
       "<1x8 sparse matrix of type '<class 'numpy.float64'>'\n",
       "\twith 8 stored elements in Compressed Sparse Row format>"
      ]
     },
     "execution_count": 19,
     "metadata": {},
     "output_type": "execute_result"
    }
   ],
   "source": [
    "tfidf_matrix = get_tfidf_representation([text])\n",
    "tfidf_matrix"
   ]
  },
  {
   "cell_type": "code",
   "execution_count": 20,
   "metadata": {},
   "outputs": [
    {
     "name": "stdout",
     "output_type": "stream",
     "text": [
      "Original Tokens:\n",
      "['i', 'am', 'a', 'student', 'hello', 'there', 'is', 'a', 'session', 'going', 'onn']\n",
      "\n",
      "POS Tagging:\n",
      "[('i', 'NN'), ('am', 'VBP'), ('a', 'DT'), ('student', 'NN'), ('hello', 'NN'), ('there', 'EX'), ('is', 'VBZ'), ('a', 'DT'), ('session', 'NN'), ('going', 'VBG'), ('onn', 'NN')]\n",
      "\n",
      "Filtered Tokens after Stop Words Removal:\n",
      "['student', 'hello', 'session', 'going', 'onn']\n",
      "\n",
      "Stemmed Tokens:\n",
      "['student', 'hello', 'session', 'go', 'onn']\n",
      "\n",
      "Lemmatized Tokens:\n",
      "['i']\n",
      "\n",
      "TF-IDF Representation:\n",
      "  (0, 4)\t0.35355339059327373\n",
      "  (0, 1)\t0.35355339059327373\n",
      "  (0, 5)\t0.35355339059327373\n",
      "  (0, 3)\t0.35355339059327373\n",
      "  (0, 7)\t0.35355339059327373\n",
      "  (0, 2)\t0.35355339059327373\n",
      "  (0, 6)\t0.35355339059327373\n",
      "  (0, 0)\t0.35355339059327373\n"
     ]
    }
   ],
   "source": [
    "print(\"Original Tokens:\")\n",
    "print(tokens)\n",
    "print(\"\\nPOS Tagging:\")\n",
    "print(pos_tags)\n",
    "print(\"\\nFiltered Tokens after Stop Words Removal:\") \n",
    "print(filtered_tokens)\n",
    "print(\"\\nStemmed Tokens:\") \n",
    "print(stemmed_tokens) \n",
    "print(\"\\nLemmatized Tokens:\") \n",
    "print(lemmatized_tokens) \n",
    "print(\"\\nTF-IDF Representation:\") \n",
    "print(tfidf_matrix)"
   ]
  },
  {
   "cell_type": "code",
   "execution_count": 24,
   "metadata": {},
   "outputs": [],
   "source": [
    "from sklearn.feature_extraction.text import CountVectorizer"
   ]
  },
  {
   "cell_type": "code",
   "execution_count": 25,
   "metadata": {},
   "outputs": [
    {
     "name": "stdout",
     "output_type": "stream",
     "text": [
      "\n",
      "BoW Representation:\n",
      "  (0, 0)\t1\n",
      "  (0, 6)\t1\n",
      "  (0, 2)\t1\n",
      "  (0, 7)\t1\n",
      "  (0, 3)\t1\n",
      "  (0, 5)\t1\n",
      "  (0, 1)\t1\n",
      "  (0, 4)\t1\n"
     ]
    }
   ],
   "source": [
    "def get_bow_representation(documents):\n",
    "    bow_vectorizer = CountVectorizer()\n",
    "    bow_matrix = bow_vectorizer.fit_transform(documents)\n",
    "    return bow_matrix\n",
    "\n",
    "bow_matrix = get_bow_representation([text])\n",
    "bow_matrix\n",
    "\n",
    "print(\"\\nBoW Representation:\")\n",
    "print(bow_matrix)"
   ]
  },
  {
   "cell_type": "code",
   "execution_count": null,
   "metadata": {},
   "outputs": [],
   "source": []
  }
 ],
 "metadata": {
  "kernelspec": {
   "display_name": "Python 3.11.4 ('base')",
   "language": "python",
   "name": "python3"
  },
  "language_info": {
   "codemirror_mode": {
    "name": "ipython",
    "version": 3
   },
   "file_extension": ".py",
   "mimetype": "text/x-python",
   "name": "python",
   "nbconvert_exporter": "python",
   "pygments_lexer": "ipython3",
   "version": "3.11.4"
  },
  "orig_nbformat": 4,
  "vscode": {
   "interpreter": {
    "hash": "2f3086a50198e478d9e4ff7572913bd630c3d107bdaf5bdaef4fb26f2e7425d5"
   }
  }
 },
 "nbformat": 4,
 "nbformat_minor": 2
}
